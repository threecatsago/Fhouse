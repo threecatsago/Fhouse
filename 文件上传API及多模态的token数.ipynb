{
 "cells": [
  {
   "cell_type": "code",
   "execution_count": null,
   "id": "initial_id",
   "metadata": {
    "collapsed": true
   },
   "outputs": [],
   "source": [
    "生成具有不同细节级别的图片和视频说明。我们建议您从以下图片/视频提示开始，从此处迭代操作以获取更具体的说明。\n",
    "图片：“您能编写关于图片的说明吗？”\n",
    "视频：“您能编写这个视频所发生情况的说明吗？”"
   ]
  },
  {
   "metadata": {},
   "cell_type": "markdown",
   "source": [
    "好的,我来为您整理一个更加清晰易读的对比表格:\n",
    "\n",
    "| 特性 | Gemini 1.5 Flash/Pro | Gemini 1.0 Pro Vision |\n",
    "|------|----------------------|------------------------|\n",
    "| 文本上下文长度 | 100万词元(约4000页) | 16,384词元(约128页) |\n",
    "| 代码处理能力 | 可处理整个代码库 | 限16,384词元 |\n",
    "| 单次处理图片数量 | 最多3000张 | 最多16张 |\n",
    "| 音频处理 | 支持,最长8.4小时 | 不支持 |\n",
    "| 视频处理 | 支持,最长50分钟(有音频)<br>1小时(无音频)<br>每次最多10个视频 | 支持,最长2分钟<br>每次1个视频<br>忽略音频 |\n",
    "| PDF处理 | 最多300页,30MB | 最多16页,30MB |\n",
    "| 输出限制 | 无特别说明 | 最多2,048词元 |\n",
    "\n",
    "主要区别:\n",
    "1. Gemini 1.5 在各方面能力都大幅提升,尤其是处理长文本、大量图片和长视频的能力。\n",
    "2. Gemini 1.5 新增了音频处理能力。\n",
    "3. Gemini 1.5 在处理PDF时可以处理更多页面。\n",
    "4. Gemini 1.0 Pro Vision在输出长度上有明确限制,而1.5版本没有提到此限制。\n",
    "\n",
    "这些差异使得Gemini 1.5更适合处理大规模、复杂的多模态任务。"
   ],
   "id": "b7d18d52000df30a"
  },
  {
   "metadata": {},
   "cell_type": "markdown",
   "source": [
    "![](https://typora-photo1220.oss-cn-beijing.aliyuncs.com/DataAnalysis/LingYi/20240923152248.png)"
   ],
   "id": "94daaba09ea7b95e"
  },
  {
   "metadata": {},
   "cell_type": "markdown",
   "source": [
    "Gemini API 支持将媒体文件与提示输入分开上传，这样可以在多个请求和提示中重复使用媒体文件。\n",
    "\n",
    "其文件 API 允许每个项目存储最多 20GB 的文件，每个文件的大小不超过 2GB。文件存储 48 小时，并且可以在此期间使用您的 API 密钥进行访问，服务为免费提供。\n",
    "\n",
    "我们将要学习如何使用文件的API，主要包括以下方法：\n",
    "\n",
    "- **media.upload**：上传文件，创建新的 `File` 资源。\n",
    "- **files.get**：获取指定文件的元数据。\n",
    "- **files.list**：列出当前项目中的所有文件。\n",
    "- **files.delete**：删除指定的文件。\n",
    "\n",
    "接下来，我们将逐一详细介绍每个方法的使用方法和注意事项。\n"
   ],
   "id": "8dce2b1a4ba8ecf1"
  },
  {
   "metadata": {},
   "cell_type": "markdown",
   "source": [
    "1. 上传文件——方法：upload\n",
    "\n",
    "\n",
    "**端点**：\n",
    "\n",
    "- 上传 URI（用于媒体上传请求）：\n",
    "\n",
    "  ```\n",
    "  POST https://generativelanguage.googleapis.com/upload/v1beta/files\n",
    "  ```\n",
    "\n",
    "**请求参数**：\n",
    "\n",
    "- **file**：要上传的文件内容。\n",
    "- **metadata（可选）**：文件的元数据，例如显示名称等。\n",
    "\n",
    "\n",
    "**支持的文件类型**：图像、音频、文本、视频、PDF 等多种格式。\n",
    "- **文件大小限制**：请参考官方文档，了解不同文件类型的大小限制。\n",
    "- **重复使用**：上传的文件可以在多个请求和提示中重复使用，提高效率。"
   ],
   "id": "4673661787bf0b4c"
  },
  {
   "metadata": {
    "ExecuteTime": {
     "end_time": "2024-09-26T11:13:00.195335Z",
     "start_time": "2024-09-26T11:13:00.172334Z"
    }
   },
   "cell_type": "code",
   "source": [
    "import os\n",
    "import google.generativeai as genai\n",
    "\n",
    "genai.configure(api_key=os.environ[\"API_KEY\"], transport='grpc')\n",
    "\n",
    "model = genai.GenerativeModel('models/gemini-1.5-flash-exp-0827',safety_settings={\n",
    "        'HATE': 'BLOCK_NONE',\n",
    "        'HARASSMENT': 'BLOCK_NONE',\n",
    "        'SEXUAL': 'BLOCK_NONE',\n",
    "        'DANGEROUS': 'BLOCK_NONE'\n",
    "    })\n"
   ],
   "id": "a69aa685d0e00bfb",
   "outputs": [],
   "execution_count": 5
  },
  {
   "metadata": {},
   "cell_type": "markdown",
   "source": "因为要参数离不开要上传的文件路径，所以可以先看看当前路径",
   "id": "f7ab8871b2a41d62"
  },
  {
   "metadata": {
    "ExecuteTime": {
     "end_time": "2024-09-26T10:39:29.644442Z",
     "start_time": "2024-09-26T10:39:29.625442Z"
    }
   },
   "cell_type": "code",
   "source": [
    "import os\n",
    "\n",
    "print(os.getcwd())"
   ],
   "id": "53cccd90aa065241",
   "outputs": [
    {
     "name": "stdout",
     "output_type": "stream",
     "text": [
      "D:\\PycharmProject\\Gemini-系列\n"
     ]
    }
   ],
   "execution_count": 6
  },
  {
   "metadata": {
    "ExecuteTime": {
     "end_time": "2024-09-26T11:15:31.733780Z",
     "start_time": "2024-09-26T11:13:04.099639Z"
    }
   },
   "cell_type": "code",
   "source": [
    "# 传入的图片文件的路径\n",
    "myfile = genai.upload_file(path=\"images/压缩_手写照片.jpg\", display_name=\"Sample drawing\")\n",
    "print(f\"上传的文件信息：{myfile}\")\n",
    "\n"
   ],
   "id": "2240b4b258132257",
   "outputs": [
    {
     "ename": "TimeoutError",
     "evalue": "[WinError 10060] 由于连接方在一段时间后没有正确答复或连接的主机没有反应，连接尝试失败。",
     "output_type": "error",
     "traceback": [
      "\u001B[1;31m---------------------------------------------------------------------------\u001B[0m",
      "\u001B[1;31mTimeoutError\u001B[0m                              Traceback (most recent call last)",
      "\u001B[1;32mD:\\Temp\\ipykernel_13352\\4038992705.py\u001B[0m in \u001B[0;36m<module>\u001B[1;34m\u001B[0m\n\u001B[0;32m      1\u001B[0m \u001B[1;31m# 传入的图片文件的路径\u001B[0m\u001B[1;33m\u001B[0m\u001B[1;33m\u001B[0m\u001B[0m\n\u001B[1;32m----> 2\u001B[1;33m \u001B[0mmyfile\u001B[0m \u001B[1;33m=\u001B[0m \u001B[0mgenai\u001B[0m\u001B[1;33m.\u001B[0m\u001B[0mupload_file\u001B[0m\u001B[1;33m(\u001B[0m\u001B[0mpath\u001B[0m\u001B[1;33m=\u001B[0m\u001B[1;34m\"images/压缩_手写照片.jpg\"\u001B[0m\u001B[1;33m,\u001B[0m \u001B[0mdisplay_name\u001B[0m\u001B[1;33m=\u001B[0m\u001B[1;34m\"Sample drawing\"\u001B[0m\u001B[1;33m)\u001B[0m\u001B[1;33m\u001B[0m\u001B[1;33m\u001B[0m\u001B[0m\n\u001B[0m\u001B[0;32m      3\u001B[0m \u001B[0mprint\u001B[0m\u001B[1;33m(\u001B[0m\u001B[1;34mf\"上传的文件信息：{myfile}\"\u001B[0m\u001B[1;33m)\u001B[0m\u001B[1;33m\u001B[0m\u001B[1;33m\u001B[0m\u001B[0m\n\u001B[0;32m      4\u001B[0m \u001B[1;33m\u001B[0m\u001B[0m\n\u001B[0;32m      5\u001B[0m \u001B[1;33m\u001B[0m\u001B[0m\n",
      "\u001B[1;32mD:\\MajorSoft\\Anaconda3\\lib\\site-packages\\google\\generativeai\\files.py\u001B[0m in \u001B[0;36mupload_file\u001B[1;34m(path, mime_type, name, display_name, resumable)\u001B[0m\n\u001B[0;32m     69\u001B[0m         \u001B[0mdisplay_name\u001B[0m \u001B[1;33m=\u001B[0m \u001B[0mpath\u001B[0m\u001B[1;33m.\u001B[0m\u001B[0mname\u001B[0m\u001B[1;33m\u001B[0m\u001B[1;33m\u001B[0m\u001B[0m\n\u001B[0;32m     70\u001B[0m \u001B[1;33m\u001B[0m\u001B[0m\n\u001B[1;32m---> 71\u001B[1;33m     response = client.create_file(\n\u001B[0m\u001B[0;32m     72\u001B[0m         \u001B[0mpath\u001B[0m\u001B[1;33m=\u001B[0m\u001B[0mpath\u001B[0m\u001B[1;33m,\u001B[0m \u001B[0mmime_type\u001B[0m\u001B[1;33m=\u001B[0m\u001B[0mmime_type\u001B[0m\u001B[1;33m,\u001B[0m \u001B[0mname\u001B[0m\u001B[1;33m=\u001B[0m\u001B[0mname\u001B[0m\u001B[1;33m,\u001B[0m \u001B[0mdisplay_name\u001B[0m\u001B[1;33m=\u001B[0m\u001B[0mdisplay_name\u001B[0m\u001B[1;33m,\u001B[0m \u001B[0mresumable\u001B[0m\u001B[1;33m=\u001B[0m\u001B[0mresumable\u001B[0m\u001B[1;33m\u001B[0m\u001B[1;33m\u001B[0m\u001B[0m\n\u001B[0;32m     73\u001B[0m     )\n",
      "\u001B[1;32mD:\\MajorSoft\\Anaconda3\\lib\\site-packages\\google\\generativeai\\client.py\u001B[0m in \u001B[0;36mcreate_file\u001B[1;34m(self, path, mime_type, name, display_name, resumable, metadata)\u001B[0m\n\u001B[0;32m     98\u001B[0m     ) -> protos.File:\n\u001B[0;32m     99\u001B[0m         \u001B[1;32mif\u001B[0m \u001B[0mself\u001B[0m\u001B[1;33m.\u001B[0m\u001B[0m_discovery_api\u001B[0m \u001B[1;32mis\u001B[0m \u001B[1;32mNone\u001B[0m\u001B[1;33m:\u001B[0m\u001B[1;33m\u001B[0m\u001B[1;33m\u001B[0m\u001B[0m\n\u001B[1;32m--> 100\u001B[1;33m             \u001B[0mself\u001B[0m\u001B[1;33m.\u001B[0m\u001B[0m_setup_discovery_api\u001B[0m\u001B[1;33m(\u001B[0m\u001B[0mmetadata\u001B[0m\u001B[1;33m)\u001B[0m\u001B[1;33m\u001B[0m\u001B[1;33m\u001B[0m\u001B[0m\n\u001B[0m\u001B[0;32m    101\u001B[0m \u001B[1;33m\u001B[0m\u001B[0m\n\u001B[0;32m    102\u001B[0m         \u001B[0mfile\u001B[0m \u001B[1;33m=\u001B[0m \u001B[1;33m{\u001B[0m\u001B[1;33m}\u001B[0m\u001B[1;33m\u001B[0m\u001B[1;33m\u001B[0m\u001B[0m\n",
      "\u001B[1;32mD:\\MajorSoft\\Anaconda3\\lib\\site-packages\\google\\generativeai\\client.py\u001B[0m in \u001B[0;36m_setup_discovery_api\u001B[1;34m(self, metadata)\u001B[0m\n\u001B[0;32m     79\u001B[0m             \u001B[0mheaders\u001B[0m\u001B[1;33m=\u001B[0m\u001B[0mdict\u001B[0m\u001B[1;33m(\u001B[0m\u001B[0mmetadata\u001B[0m\u001B[1;33m)\u001B[0m\u001B[1;33m,\u001B[0m\u001B[1;33m\u001B[0m\u001B[1;33m\u001B[0m\u001B[0m\n\u001B[0;32m     80\u001B[0m         )\n\u001B[1;32m---> 81\u001B[1;33m         \u001B[0mresponse\u001B[0m\u001B[1;33m,\u001B[0m \u001B[0mcontent\u001B[0m \u001B[1;33m=\u001B[0m \u001B[0mrequest\u001B[0m\u001B[1;33m.\u001B[0m\u001B[0mexecute\u001B[0m\u001B[1;33m(\u001B[0m\u001B[1;33m)\u001B[0m\u001B[1;33m\u001B[0m\u001B[1;33m\u001B[0m\u001B[0m\n\u001B[0m\u001B[0;32m     82\u001B[0m         \u001B[0mrequest\u001B[0m\u001B[1;33m.\u001B[0m\u001B[0mhttp\u001B[0m\u001B[1;33m.\u001B[0m\u001B[0mclose\u001B[0m\u001B[1;33m(\u001B[0m\u001B[1;33m)\u001B[0m\u001B[1;33m\u001B[0m\u001B[1;33m\u001B[0m\u001B[0m\n\u001B[0;32m     83\u001B[0m \u001B[1;33m\u001B[0m\u001B[0m\n",
      "\u001B[1;32mD:\\MajorSoft\\Anaconda3\\lib\\site-packages\\googleapiclient\\_helpers.py\u001B[0m in \u001B[0;36mpositional_wrapper\u001B[1;34m(*args, **kwargs)\u001B[0m\n\u001B[0;32m    128\u001B[0m                 \u001B[1;32melif\u001B[0m \u001B[0mpositional_parameters_enforcement\u001B[0m \u001B[1;33m==\u001B[0m \u001B[0mPOSITIONAL_WARNING\u001B[0m\u001B[1;33m:\u001B[0m\u001B[1;33m\u001B[0m\u001B[1;33m\u001B[0m\u001B[0m\n\u001B[0;32m    129\u001B[0m                     \u001B[0mlogger\u001B[0m\u001B[1;33m.\u001B[0m\u001B[0mwarning\u001B[0m\u001B[1;33m(\u001B[0m\u001B[0mmessage\u001B[0m\u001B[1;33m)\u001B[0m\u001B[1;33m\u001B[0m\u001B[1;33m\u001B[0m\u001B[0m\n\u001B[1;32m--> 130\u001B[1;33m             \u001B[1;32mreturn\u001B[0m \u001B[0mwrapped\u001B[0m\u001B[1;33m(\u001B[0m\u001B[1;33m*\u001B[0m\u001B[0margs\u001B[0m\u001B[1;33m,\u001B[0m \u001B[1;33m**\u001B[0m\u001B[0mkwargs\u001B[0m\u001B[1;33m)\u001B[0m\u001B[1;33m\u001B[0m\u001B[1;33m\u001B[0m\u001B[0m\n\u001B[0m\u001B[0;32m    131\u001B[0m \u001B[1;33m\u001B[0m\u001B[0m\n\u001B[0;32m    132\u001B[0m         \u001B[1;32mreturn\u001B[0m \u001B[0mpositional_wrapper\u001B[0m\u001B[1;33m\u001B[0m\u001B[1;33m\u001B[0m\u001B[0m\n",
      "\u001B[1;32mD:\\MajorSoft\\Anaconda3\\lib\\site-packages\\googleapiclient\\http.py\u001B[0m in \u001B[0;36mexecute\u001B[1;34m(self, http, num_retries)\u001B[0m\n\u001B[0;32m    921\u001B[0m \u001B[1;33m\u001B[0m\u001B[0m\n\u001B[0;32m    922\u001B[0m         \u001B[1;31m# Handle retries for server-side errors.\u001B[0m\u001B[1;33m\u001B[0m\u001B[1;33m\u001B[0m\u001B[0m\n\u001B[1;32m--> 923\u001B[1;33m         resp, content = _retry_request(\n\u001B[0m\u001B[0;32m    924\u001B[0m             \u001B[0mhttp\u001B[0m\u001B[1;33m,\u001B[0m\u001B[1;33m\u001B[0m\u001B[1;33m\u001B[0m\u001B[0m\n\u001B[0;32m    925\u001B[0m             \u001B[0mnum_retries\u001B[0m\u001B[1;33m,\u001B[0m\u001B[1;33m\u001B[0m\u001B[1;33m\u001B[0m\u001B[0m\n",
      "\u001B[1;32mD:\\MajorSoft\\Anaconda3\\lib\\site-packages\\googleapiclient\\http.py\u001B[0m in \u001B[0;36m_retry_request\u001B[1;34m(http, num_retries, req_type, sleep, rand, uri, method, *args, **kwargs)\u001B[0m\n\u001B[0;32m    220\u001B[0m         \u001B[1;32mif\u001B[0m \u001B[0mexception\u001B[0m\u001B[1;33m:\u001B[0m\u001B[1;33m\u001B[0m\u001B[1;33m\u001B[0m\u001B[0m\n\u001B[0;32m    221\u001B[0m             \u001B[1;32mif\u001B[0m \u001B[0mretry_num\u001B[0m \u001B[1;33m==\u001B[0m \u001B[0mnum_retries\u001B[0m\u001B[1;33m:\u001B[0m\u001B[1;33m\u001B[0m\u001B[1;33m\u001B[0m\u001B[0m\n\u001B[1;32m--> 222\u001B[1;33m                 \u001B[1;32mraise\u001B[0m \u001B[0mexception\u001B[0m\u001B[1;33m\u001B[0m\u001B[1;33m\u001B[0m\u001B[0m\n\u001B[0m\u001B[0;32m    223\u001B[0m             \u001B[1;32melse\u001B[0m\u001B[1;33m:\u001B[0m\u001B[1;33m\u001B[0m\u001B[1;33m\u001B[0m\u001B[0m\n\u001B[0;32m    224\u001B[0m                 \u001B[1;32mcontinue\u001B[0m\u001B[1;33m\u001B[0m\u001B[1;33m\u001B[0m\u001B[0m\n",
      "\u001B[1;32mD:\\MajorSoft\\Anaconda3\\lib\\site-packages\\googleapiclient\\http.py\u001B[0m in \u001B[0;36m_retry_request\u001B[1;34m(http, num_retries, req_type, sleep, rand, uri, method, *args, **kwargs)\u001B[0m\n\u001B[0;32m    189\u001B[0m         \u001B[1;32mtry\u001B[0m\u001B[1;33m:\u001B[0m\u001B[1;33m\u001B[0m\u001B[1;33m\u001B[0m\u001B[0m\n\u001B[0;32m    190\u001B[0m             \u001B[0mexception\u001B[0m \u001B[1;33m=\u001B[0m \u001B[1;32mNone\u001B[0m\u001B[1;33m\u001B[0m\u001B[1;33m\u001B[0m\u001B[0m\n\u001B[1;32m--> 191\u001B[1;33m             \u001B[0mresp\u001B[0m\u001B[1;33m,\u001B[0m \u001B[0mcontent\u001B[0m \u001B[1;33m=\u001B[0m \u001B[0mhttp\u001B[0m\u001B[1;33m.\u001B[0m\u001B[0mrequest\u001B[0m\u001B[1;33m(\u001B[0m\u001B[0muri\u001B[0m\u001B[1;33m,\u001B[0m \u001B[0mmethod\u001B[0m\u001B[1;33m,\u001B[0m \u001B[1;33m*\u001B[0m\u001B[0margs\u001B[0m\u001B[1;33m,\u001B[0m \u001B[1;33m**\u001B[0m\u001B[0mkwargs\u001B[0m\u001B[1;33m)\u001B[0m\u001B[1;33m\u001B[0m\u001B[1;33m\u001B[0m\u001B[0m\n\u001B[0m\u001B[0;32m    192\u001B[0m         \u001B[1;31m# Retry on SSL errors and socket timeout errors.\u001B[0m\u001B[1;33m\u001B[0m\u001B[1;33m\u001B[0m\u001B[0m\n\u001B[0;32m    193\u001B[0m         \u001B[1;32mexcept\u001B[0m \u001B[0m_ssl_SSLError\u001B[0m \u001B[1;32mas\u001B[0m \u001B[0mssl_error\u001B[0m\u001B[1;33m:\u001B[0m\u001B[1;33m\u001B[0m\u001B[1;33m\u001B[0m\u001B[0m\n",
      "\u001B[1;32mD:\\MajorSoft\\Anaconda3\\lib\\site-packages\\httplib2\\__init__.py\u001B[0m in \u001B[0;36mrequest\u001B[1;34m(self, uri, method, body, headers, redirections, connection_type)\u001B[0m\n\u001B[0;32m   1722\u001B[0m                     \u001B[0mcontent\u001B[0m \u001B[1;33m=\u001B[0m \u001B[1;34mb\"\"\u001B[0m\u001B[1;33m\u001B[0m\u001B[1;33m\u001B[0m\u001B[0m\n\u001B[0;32m   1723\u001B[0m                 \u001B[1;32melse\u001B[0m\u001B[1;33m:\u001B[0m\u001B[1;33m\u001B[0m\u001B[1;33m\u001B[0m\u001B[0m\n\u001B[1;32m-> 1724\u001B[1;33m                     (response, content) = self._request(\n\u001B[0m\u001B[0;32m   1725\u001B[0m                         \u001B[0mconn\u001B[0m\u001B[1;33m,\u001B[0m \u001B[0mauthority\u001B[0m\u001B[1;33m,\u001B[0m \u001B[0muri\u001B[0m\u001B[1;33m,\u001B[0m \u001B[0mrequest_uri\u001B[0m\u001B[1;33m,\u001B[0m \u001B[0mmethod\u001B[0m\u001B[1;33m,\u001B[0m \u001B[0mbody\u001B[0m\u001B[1;33m,\u001B[0m \u001B[0mheaders\u001B[0m\u001B[1;33m,\u001B[0m \u001B[0mredirections\u001B[0m\u001B[1;33m,\u001B[0m \u001B[0mcachekey\u001B[0m\u001B[1;33m,\u001B[0m\u001B[1;33m\u001B[0m\u001B[1;33m\u001B[0m\u001B[0m\n\u001B[0;32m   1726\u001B[0m                     )\n",
      "\u001B[1;32mD:\\MajorSoft\\Anaconda3\\lib\\site-packages\\httplib2\\__init__.py\u001B[0m in \u001B[0;36m_request\u001B[1;34m(self, conn, host, absolute_uri, request_uri, method, body, headers, redirections, cachekey)\u001B[0m\n\u001B[0;32m   1442\u001B[0m             \u001B[0mauth\u001B[0m\u001B[1;33m.\u001B[0m\u001B[0mrequest\u001B[0m\u001B[1;33m(\u001B[0m\u001B[0mmethod\u001B[0m\u001B[1;33m,\u001B[0m \u001B[0mrequest_uri\u001B[0m\u001B[1;33m,\u001B[0m \u001B[0mheaders\u001B[0m\u001B[1;33m,\u001B[0m \u001B[0mbody\u001B[0m\u001B[1;33m)\u001B[0m\u001B[1;33m\u001B[0m\u001B[1;33m\u001B[0m\u001B[0m\n\u001B[0;32m   1443\u001B[0m \u001B[1;33m\u001B[0m\u001B[0m\n\u001B[1;32m-> 1444\u001B[1;33m         \u001B[1;33m(\u001B[0m\u001B[0mresponse\u001B[0m\u001B[1;33m,\u001B[0m \u001B[0mcontent\u001B[0m\u001B[1;33m)\u001B[0m \u001B[1;33m=\u001B[0m \u001B[0mself\u001B[0m\u001B[1;33m.\u001B[0m\u001B[0m_conn_request\u001B[0m\u001B[1;33m(\u001B[0m\u001B[0mconn\u001B[0m\u001B[1;33m,\u001B[0m \u001B[0mrequest_uri\u001B[0m\u001B[1;33m,\u001B[0m \u001B[0mmethod\u001B[0m\u001B[1;33m,\u001B[0m \u001B[0mbody\u001B[0m\u001B[1;33m,\u001B[0m \u001B[0mheaders\u001B[0m\u001B[1;33m)\u001B[0m\u001B[1;33m\u001B[0m\u001B[1;33m\u001B[0m\u001B[0m\n\u001B[0m\u001B[0;32m   1445\u001B[0m \u001B[1;33m\u001B[0m\u001B[0m\n\u001B[0;32m   1446\u001B[0m         \u001B[1;32mif\u001B[0m \u001B[0mauth\u001B[0m\u001B[1;33m:\u001B[0m\u001B[1;33m\u001B[0m\u001B[1;33m\u001B[0m\u001B[0m\n",
      "\u001B[1;32mD:\\MajorSoft\\Anaconda3\\lib\\site-packages\\httplib2\\__init__.py\u001B[0m in \u001B[0;36m_conn_request\u001B[1;34m(self, conn, request_uri, method, body, headers)\u001B[0m\n\u001B[0;32m   1364\u001B[0m             \u001B[1;32mtry\u001B[0m\u001B[1;33m:\u001B[0m\u001B[1;33m\u001B[0m\u001B[1;33m\u001B[0m\u001B[0m\n\u001B[0;32m   1365\u001B[0m                 \u001B[1;32mif\u001B[0m \u001B[0mconn\u001B[0m\u001B[1;33m.\u001B[0m\u001B[0msock\u001B[0m \u001B[1;32mis\u001B[0m \u001B[1;32mNone\u001B[0m\u001B[1;33m:\u001B[0m\u001B[1;33m\u001B[0m\u001B[1;33m\u001B[0m\u001B[0m\n\u001B[1;32m-> 1366\u001B[1;33m                     \u001B[0mconn\u001B[0m\u001B[1;33m.\u001B[0m\u001B[0mconnect\u001B[0m\u001B[1;33m(\u001B[0m\u001B[1;33m)\u001B[0m\u001B[1;33m\u001B[0m\u001B[1;33m\u001B[0m\u001B[0m\n\u001B[0m\u001B[0;32m   1367\u001B[0m                 \u001B[0mconn\u001B[0m\u001B[1;33m.\u001B[0m\u001B[0mrequest\u001B[0m\u001B[1;33m(\u001B[0m\u001B[0mmethod\u001B[0m\u001B[1;33m,\u001B[0m \u001B[0mrequest_uri\u001B[0m\u001B[1;33m,\u001B[0m \u001B[0mbody\u001B[0m\u001B[1;33m,\u001B[0m \u001B[0mheaders\u001B[0m\u001B[1;33m)\u001B[0m\u001B[1;33m\u001B[0m\u001B[1;33m\u001B[0m\u001B[0m\n\u001B[0;32m   1368\u001B[0m             \u001B[1;32mexcept\u001B[0m \u001B[0msocket\u001B[0m\u001B[1;33m.\u001B[0m\u001B[0mtimeout\u001B[0m\u001B[1;33m:\u001B[0m\u001B[1;33m\u001B[0m\u001B[1;33m\u001B[0m\u001B[0m\n",
      "\u001B[1;32mD:\\MajorSoft\\Anaconda3\\lib\\site-packages\\httplib2\\__init__.py\u001B[0m in \u001B[0;36mconnect\u001B[1;34m(self)\u001B[0m\n\u001B[0;32m   1200\u001B[0m             \u001B[1;32mbreak\u001B[0m\u001B[1;33m\u001B[0m\u001B[1;33m\u001B[0m\u001B[0m\n\u001B[0;32m   1201\u001B[0m         \u001B[1;32mif\u001B[0m \u001B[1;32mnot\u001B[0m \u001B[0mself\u001B[0m\u001B[1;33m.\u001B[0m\u001B[0msock\u001B[0m\u001B[1;33m:\u001B[0m\u001B[1;33m\u001B[0m\u001B[1;33m\u001B[0m\u001B[0m\n\u001B[1;32m-> 1202\u001B[1;33m             \u001B[1;32mraise\u001B[0m \u001B[0msocket_err\u001B[0m\u001B[1;33m\u001B[0m\u001B[1;33m\u001B[0m\u001B[0m\n\u001B[0m\u001B[0;32m   1203\u001B[0m \u001B[1;33m\u001B[0m\u001B[0m\n\u001B[0;32m   1204\u001B[0m \u001B[1;33m\u001B[0m\u001B[0m\n",
      "\u001B[1;32mD:\\MajorSoft\\Anaconda3\\lib\\site-packages\\httplib2\\__init__.py\u001B[0m in \u001B[0;36mconnect\u001B[1;34m(self)\u001B[0m\n\u001B[0;32m   1154\u001B[0m                 \u001B[1;32mif\u001B[0m \u001B[0mhas_timeout\u001B[0m\u001B[1;33m(\u001B[0m\u001B[0mself\u001B[0m\u001B[1;33m.\u001B[0m\u001B[0mtimeout\u001B[0m\u001B[1;33m)\u001B[0m\u001B[1;33m:\u001B[0m\u001B[1;33m\u001B[0m\u001B[1;33m\u001B[0m\u001B[0m\n\u001B[0;32m   1155\u001B[0m                     \u001B[0msock\u001B[0m\u001B[1;33m.\u001B[0m\u001B[0msettimeout\u001B[0m\u001B[1;33m(\u001B[0m\u001B[0mself\u001B[0m\u001B[1;33m.\u001B[0m\u001B[0mtimeout\u001B[0m\u001B[1;33m)\u001B[0m\u001B[1;33m\u001B[0m\u001B[1;33m\u001B[0m\u001B[0m\n\u001B[1;32m-> 1156\u001B[1;33m                 \u001B[0msock\u001B[0m\u001B[1;33m.\u001B[0m\u001B[0mconnect\u001B[0m\u001B[1;33m(\u001B[0m\u001B[1;33m(\u001B[0m\u001B[0mself\u001B[0m\u001B[1;33m.\u001B[0m\u001B[0mhost\u001B[0m\u001B[1;33m,\u001B[0m \u001B[0mself\u001B[0m\u001B[1;33m.\u001B[0m\u001B[0mport\u001B[0m\u001B[1;33m)\u001B[0m\u001B[1;33m)\u001B[0m\u001B[1;33m\u001B[0m\u001B[1;33m\u001B[0m\u001B[0m\n\u001B[0m\u001B[0;32m   1157\u001B[0m \u001B[1;33m\u001B[0m\u001B[0m\n\u001B[0;32m   1158\u001B[0m                 \u001B[0mself\u001B[0m\u001B[1;33m.\u001B[0m\u001B[0msock\u001B[0m \u001B[1;33m=\u001B[0m \u001B[0mself\u001B[0m\u001B[1;33m.\u001B[0m\u001B[0m_context\u001B[0m\u001B[1;33m.\u001B[0m\u001B[0mwrap_socket\u001B[0m\u001B[1;33m(\u001B[0m\u001B[0msock\u001B[0m\u001B[1;33m,\u001B[0m \u001B[0mserver_hostname\u001B[0m\u001B[1;33m=\u001B[0m\u001B[0mself\u001B[0m\u001B[1;33m.\u001B[0m\u001B[0mhost\u001B[0m\u001B[1;33m)\u001B[0m\u001B[1;33m\u001B[0m\u001B[1;33m\u001B[0m\u001B[0m\n",
      "\u001B[1;31mTimeoutError\u001B[0m: [WinError 10060] 由于连接方在一段时间后没有正确答复或连接的主机没有反应，连接尝试失败。"
     ]
    }
   ],
   "execution_count": 6
  },
  {
   "metadata": {},
   "cell_type": "code",
   "outputs": [],
   "execution_count": null,
   "source": [
    "# Wait for the file to finish processing\n",
    "while file.state.name == \"PROCESSING\":\n",
    "    print('Waiting for video to be processed.')\n",
    "    time.sleep(2)\n",
    "    video_file = genai.get_file(file.name)"
   ],
   "id": "5453d8b58620b6de"
  },
  {
   "metadata": {},
   "cell_type": "code",
   "outputs": [],
   "execution_count": null,
   "source": [
    "# 使用上传的文件进行内容生成\n",
    "model = genai.GenerativeModel(\"gemini-1.5-flash\")\n",
    "result = model.generate_content([\n",
    "    myfile,\n",
    "    \"\\n\\n\",\n",
    "    \"你能描述一下这张照片吗?\"\n",
    "])\n",
    "print(f\"生成的文本内容：{result.text}\")\n"
   ],
   "id": "6df12b62ba60ecb9"
  },
  {
   "metadata": {},
   "cell_type": "markdown",
   "source": [
    "2. 获取文件——方法：files.get\n",
    "\n",
    "**端点**：\n",
    "\n",
    "```\n",
    "GET https://generativelanguage.googleapis.com/v1beta/{name=files/*}\n",
    "```\n",
    "\n",
    "**路径参数**：\n",
    "\n",
    "- **name**：必需。文件的唯一名称，格式为 `files/{file_id}`。\n",
    "\n",
    "**文件状态**：如果文件正在处理（`PROCESSING`），某些元数据可能尚不可用。\n"
   ],
   "id": "f02b197a37b8c721"
  },
  {
   "metadata": {
    "ExecuteTime": {
     "end_time": "2024-09-26T10:32:31.549474Z",
     "start_time": "2024-09-26T10:32:10.265836Z"
    }
   },
   "cell_type": "code",
   "source": [
    "# 假设之前上传了一个文件并获得了其名称\n",
    "myfile = genai.upload_file('media/poem.txt')\n",
    "file_name = myfile.name\n",
    "print(f\"文件名称：{file_name}\")  # 输出类似于 \"files/abc-123\"\n",
    "\n",
    "# 获取文件元数据\n",
    "myfile_info = genai.get_file(file_name)\n",
    "print(f\"文件元数据：{myfile_info}\")\n"
   ],
   "id": "16a66c8315f3d4b2",
   "outputs": [
    {
     "ename": "KeyboardInterrupt",
     "evalue": "",
     "output_type": "error",
     "traceback": [
      "\u001B[1;31m---------------------------------------------------------------------------\u001B[0m",
      "\u001B[1;31mTimeoutError\u001B[0m                              Traceback (most recent call last)",
      "\u001B[1;32mD:\\MajorSoft\\Anaconda3\\lib\\site-packages\\httplib2\\__init__.py\u001B[0m in \u001B[0;36mconnect\u001B[1;34m(self)\u001B[0m\n\u001B[0;32m   1155\u001B[0m                     \u001B[0msock\u001B[0m\u001B[1;33m.\u001B[0m\u001B[0msettimeout\u001B[0m\u001B[1;33m(\u001B[0m\u001B[0mself\u001B[0m\u001B[1;33m.\u001B[0m\u001B[0mtimeout\u001B[0m\u001B[1;33m)\u001B[0m\u001B[1;33m\u001B[0m\u001B[1;33m\u001B[0m\u001B[0m\n\u001B[1;32m-> 1156\u001B[1;33m                 \u001B[0msock\u001B[0m\u001B[1;33m.\u001B[0m\u001B[0mconnect\u001B[0m\u001B[1;33m(\u001B[0m\u001B[1;33m(\u001B[0m\u001B[0mself\u001B[0m\u001B[1;33m.\u001B[0m\u001B[0mhost\u001B[0m\u001B[1;33m,\u001B[0m \u001B[0mself\u001B[0m\u001B[1;33m.\u001B[0m\u001B[0mport\u001B[0m\u001B[1;33m)\u001B[0m\u001B[1;33m)\u001B[0m\u001B[1;33m\u001B[0m\u001B[1;33m\u001B[0m\u001B[0m\n\u001B[0m\u001B[0;32m   1157\u001B[0m \u001B[1;33m\u001B[0m\u001B[0m\n",
      "\u001B[1;31mTimeoutError\u001B[0m: [WinError 10060] 由于连接方在一段时间后没有正确答复或连接的主机没有反应，连接尝试失败。",
      "\nDuring handling of the above exception, another exception occurred:\n",
      "\u001B[1;31mKeyboardInterrupt\u001B[0m                         Traceback (most recent call last)",
      "\u001B[1;32mD:\\Temp\\ipykernel_325440\\2746464173.py\u001B[0m in \u001B[0;36m<module>\u001B[1;34m\u001B[0m\n\u001B[0;32m      1\u001B[0m \u001B[1;31m# 假设之前上传了一个文件并获得了其名称\u001B[0m\u001B[1;33m\u001B[0m\u001B[1;33m\u001B[0m\u001B[0m\n\u001B[1;32m----> 2\u001B[1;33m \u001B[0mmyfile\u001B[0m \u001B[1;33m=\u001B[0m \u001B[0mgenai\u001B[0m\u001B[1;33m.\u001B[0m\u001B[0mupload_file\u001B[0m\u001B[1;33m(\u001B[0m\u001B[1;34m'media/poem.txt'\u001B[0m\u001B[1;33m)\u001B[0m\u001B[1;33m\u001B[0m\u001B[1;33m\u001B[0m\u001B[0m\n\u001B[0m\u001B[0;32m      3\u001B[0m \u001B[0mfile_name\u001B[0m \u001B[1;33m=\u001B[0m \u001B[0mmyfile\u001B[0m\u001B[1;33m.\u001B[0m\u001B[0mname\u001B[0m\u001B[1;33m\u001B[0m\u001B[1;33m\u001B[0m\u001B[0m\n\u001B[0;32m      4\u001B[0m \u001B[0mprint\u001B[0m\u001B[1;33m(\u001B[0m\u001B[1;34mf\"文件名称：{file_name}\"\u001B[0m\u001B[1;33m)\u001B[0m  \u001B[1;31m# 输出类似于 \"files/abc-123\"\u001B[0m\u001B[1;33m\u001B[0m\u001B[1;33m\u001B[0m\u001B[0m\n\u001B[0;32m      5\u001B[0m \u001B[1;33m\u001B[0m\u001B[0m\n",
      "\u001B[1;32mD:\\MajorSoft\\Anaconda3\\lib\\site-packages\\google\\generativeai\\files.py\u001B[0m in \u001B[0;36mupload_file\u001B[1;34m(path, mime_type, name, display_name, resumable)\u001B[0m\n\u001B[0;32m     69\u001B[0m         \u001B[0mdisplay_name\u001B[0m \u001B[1;33m=\u001B[0m \u001B[0mpath\u001B[0m\u001B[1;33m.\u001B[0m\u001B[0mname\u001B[0m\u001B[1;33m\u001B[0m\u001B[1;33m\u001B[0m\u001B[0m\n\u001B[0;32m     70\u001B[0m \u001B[1;33m\u001B[0m\u001B[0m\n\u001B[1;32m---> 71\u001B[1;33m     response = client.create_file(\n\u001B[0m\u001B[0;32m     72\u001B[0m         \u001B[0mpath\u001B[0m\u001B[1;33m=\u001B[0m\u001B[0mpath\u001B[0m\u001B[1;33m,\u001B[0m \u001B[0mmime_type\u001B[0m\u001B[1;33m=\u001B[0m\u001B[0mmime_type\u001B[0m\u001B[1;33m,\u001B[0m \u001B[0mname\u001B[0m\u001B[1;33m=\u001B[0m\u001B[0mname\u001B[0m\u001B[1;33m,\u001B[0m \u001B[0mdisplay_name\u001B[0m\u001B[1;33m=\u001B[0m\u001B[0mdisplay_name\u001B[0m\u001B[1;33m,\u001B[0m \u001B[0mresumable\u001B[0m\u001B[1;33m=\u001B[0m\u001B[0mresumable\u001B[0m\u001B[1;33m\u001B[0m\u001B[1;33m\u001B[0m\u001B[0m\n\u001B[0;32m     73\u001B[0m     )\n",
      "\u001B[1;32mD:\\MajorSoft\\Anaconda3\\lib\\site-packages\\google\\generativeai\\client.py\u001B[0m in \u001B[0;36mcreate_file\u001B[1;34m(self, path, mime_type, name, display_name, resumable, metadata)\u001B[0m\n\u001B[0;32m     98\u001B[0m     ) -> protos.File:\n\u001B[0;32m     99\u001B[0m         \u001B[1;32mif\u001B[0m \u001B[0mself\u001B[0m\u001B[1;33m.\u001B[0m\u001B[0m_discovery_api\u001B[0m \u001B[1;32mis\u001B[0m \u001B[1;32mNone\u001B[0m\u001B[1;33m:\u001B[0m\u001B[1;33m\u001B[0m\u001B[1;33m\u001B[0m\u001B[0m\n\u001B[1;32m--> 100\u001B[1;33m             \u001B[0mself\u001B[0m\u001B[1;33m.\u001B[0m\u001B[0m_setup_discovery_api\u001B[0m\u001B[1;33m(\u001B[0m\u001B[0mmetadata\u001B[0m\u001B[1;33m)\u001B[0m\u001B[1;33m\u001B[0m\u001B[1;33m\u001B[0m\u001B[0m\n\u001B[0m\u001B[0;32m    101\u001B[0m \u001B[1;33m\u001B[0m\u001B[0m\n\u001B[0;32m    102\u001B[0m         \u001B[0mfile\u001B[0m \u001B[1;33m=\u001B[0m \u001B[1;33m{\u001B[0m\u001B[1;33m}\u001B[0m\u001B[1;33m\u001B[0m\u001B[1;33m\u001B[0m\u001B[0m\n",
      "\u001B[1;32mD:\\MajorSoft\\Anaconda3\\lib\\site-packages\\google\\generativeai\\client.py\u001B[0m in \u001B[0;36m_setup_discovery_api\u001B[1;34m(self, metadata)\u001B[0m\n\u001B[0;32m     79\u001B[0m             \u001B[0mheaders\u001B[0m\u001B[1;33m=\u001B[0m\u001B[0mdict\u001B[0m\u001B[1;33m(\u001B[0m\u001B[0mmetadata\u001B[0m\u001B[1;33m)\u001B[0m\u001B[1;33m,\u001B[0m\u001B[1;33m\u001B[0m\u001B[1;33m\u001B[0m\u001B[0m\n\u001B[0;32m     80\u001B[0m         )\n\u001B[1;32m---> 81\u001B[1;33m         \u001B[0mresponse\u001B[0m\u001B[1;33m,\u001B[0m \u001B[0mcontent\u001B[0m \u001B[1;33m=\u001B[0m \u001B[0mrequest\u001B[0m\u001B[1;33m.\u001B[0m\u001B[0mexecute\u001B[0m\u001B[1;33m(\u001B[0m\u001B[1;33m)\u001B[0m\u001B[1;33m\u001B[0m\u001B[1;33m\u001B[0m\u001B[0m\n\u001B[0m\u001B[0;32m     82\u001B[0m         \u001B[0mrequest\u001B[0m\u001B[1;33m.\u001B[0m\u001B[0mhttp\u001B[0m\u001B[1;33m.\u001B[0m\u001B[0mclose\u001B[0m\u001B[1;33m(\u001B[0m\u001B[1;33m)\u001B[0m\u001B[1;33m\u001B[0m\u001B[1;33m\u001B[0m\u001B[0m\n\u001B[0;32m     83\u001B[0m \u001B[1;33m\u001B[0m\u001B[0m\n",
      "\u001B[1;32mD:\\MajorSoft\\Anaconda3\\lib\\site-packages\\googleapiclient\\_helpers.py\u001B[0m in \u001B[0;36mpositional_wrapper\u001B[1;34m(*args, **kwargs)\u001B[0m\n\u001B[0;32m    128\u001B[0m                 \u001B[1;32melif\u001B[0m \u001B[0mpositional_parameters_enforcement\u001B[0m \u001B[1;33m==\u001B[0m \u001B[0mPOSITIONAL_WARNING\u001B[0m\u001B[1;33m:\u001B[0m\u001B[1;33m\u001B[0m\u001B[1;33m\u001B[0m\u001B[0m\n\u001B[0;32m    129\u001B[0m                     \u001B[0mlogger\u001B[0m\u001B[1;33m.\u001B[0m\u001B[0mwarning\u001B[0m\u001B[1;33m(\u001B[0m\u001B[0mmessage\u001B[0m\u001B[1;33m)\u001B[0m\u001B[1;33m\u001B[0m\u001B[1;33m\u001B[0m\u001B[0m\n\u001B[1;32m--> 130\u001B[1;33m             \u001B[1;32mreturn\u001B[0m \u001B[0mwrapped\u001B[0m\u001B[1;33m(\u001B[0m\u001B[1;33m*\u001B[0m\u001B[0margs\u001B[0m\u001B[1;33m,\u001B[0m \u001B[1;33m**\u001B[0m\u001B[0mkwargs\u001B[0m\u001B[1;33m)\u001B[0m\u001B[1;33m\u001B[0m\u001B[1;33m\u001B[0m\u001B[0m\n\u001B[0m\u001B[0;32m    131\u001B[0m \u001B[1;33m\u001B[0m\u001B[0m\n\u001B[0;32m    132\u001B[0m         \u001B[1;32mreturn\u001B[0m \u001B[0mpositional_wrapper\u001B[0m\u001B[1;33m\u001B[0m\u001B[1;33m\u001B[0m\u001B[0m\n",
      "\u001B[1;32mD:\\MajorSoft\\Anaconda3\\lib\\site-packages\\googleapiclient\\http.py\u001B[0m in \u001B[0;36mexecute\u001B[1;34m(self, http, num_retries)\u001B[0m\n\u001B[0;32m    921\u001B[0m \u001B[1;33m\u001B[0m\u001B[0m\n\u001B[0;32m    922\u001B[0m         \u001B[1;31m# Handle retries for server-side errors.\u001B[0m\u001B[1;33m\u001B[0m\u001B[1;33m\u001B[0m\u001B[0m\n\u001B[1;32m--> 923\u001B[1;33m         resp, content = _retry_request(\n\u001B[0m\u001B[0;32m    924\u001B[0m             \u001B[0mhttp\u001B[0m\u001B[1;33m,\u001B[0m\u001B[1;33m\u001B[0m\u001B[1;33m\u001B[0m\u001B[0m\n\u001B[0;32m    925\u001B[0m             \u001B[0mnum_retries\u001B[0m\u001B[1;33m,\u001B[0m\u001B[1;33m\u001B[0m\u001B[1;33m\u001B[0m\u001B[0m\n",
      "\u001B[1;32mD:\\MajorSoft\\Anaconda3\\lib\\site-packages\\googleapiclient\\http.py\u001B[0m in \u001B[0;36m_retry_request\u001B[1;34m(http, num_retries, req_type, sleep, rand, uri, method, *args, **kwargs)\u001B[0m\n\u001B[0;32m    189\u001B[0m         \u001B[1;32mtry\u001B[0m\u001B[1;33m:\u001B[0m\u001B[1;33m\u001B[0m\u001B[1;33m\u001B[0m\u001B[0m\n\u001B[0;32m    190\u001B[0m             \u001B[0mexception\u001B[0m \u001B[1;33m=\u001B[0m \u001B[1;32mNone\u001B[0m\u001B[1;33m\u001B[0m\u001B[1;33m\u001B[0m\u001B[0m\n\u001B[1;32m--> 191\u001B[1;33m             \u001B[0mresp\u001B[0m\u001B[1;33m,\u001B[0m \u001B[0mcontent\u001B[0m \u001B[1;33m=\u001B[0m \u001B[0mhttp\u001B[0m\u001B[1;33m.\u001B[0m\u001B[0mrequest\u001B[0m\u001B[1;33m(\u001B[0m\u001B[0muri\u001B[0m\u001B[1;33m,\u001B[0m \u001B[0mmethod\u001B[0m\u001B[1;33m,\u001B[0m \u001B[1;33m*\u001B[0m\u001B[0margs\u001B[0m\u001B[1;33m,\u001B[0m \u001B[1;33m**\u001B[0m\u001B[0mkwargs\u001B[0m\u001B[1;33m)\u001B[0m\u001B[1;33m\u001B[0m\u001B[1;33m\u001B[0m\u001B[0m\n\u001B[0m\u001B[0;32m    192\u001B[0m         \u001B[1;31m# Retry on SSL errors and socket timeout errors.\u001B[0m\u001B[1;33m\u001B[0m\u001B[1;33m\u001B[0m\u001B[0m\n\u001B[0;32m    193\u001B[0m         \u001B[1;32mexcept\u001B[0m \u001B[0m_ssl_SSLError\u001B[0m \u001B[1;32mas\u001B[0m \u001B[0mssl_error\u001B[0m\u001B[1;33m:\u001B[0m\u001B[1;33m\u001B[0m\u001B[1;33m\u001B[0m\u001B[0m\n",
      "\u001B[1;32mD:\\MajorSoft\\Anaconda3\\lib\\site-packages\\httplib2\\__init__.py\u001B[0m in \u001B[0;36mrequest\u001B[1;34m(self, uri, method, body, headers, redirections, connection_type)\u001B[0m\n\u001B[0;32m   1722\u001B[0m                     \u001B[0mcontent\u001B[0m \u001B[1;33m=\u001B[0m \u001B[1;34mb\"\"\u001B[0m\u001B[1;33m\u001B[0m\u001B[1;33m\u001B[0m\u001B[0m\n\u001B[0;32m   1723\u001B[0m                 \u001B[1;32melse\u001B[0m\u001B[1;33m:\u001B[0m\u001B[1;33m\u001B[0m\u001B[1;33m\u001B[0m\u001B[0m\n\u001B[1;32m-> 1724\u001B[1;33m                     (response, content) = self._request(\n\u001B[0m\u001B[0;32m   1725\u001B[0m                         \u001B[0mconn\u001B[0m\u001B[1;33m,\u001B[0m \u001B[0mauthority\u001B[0m\u001B[1;33m,\u001B[0m \u001B[0muri\u001B[0m\u001B[1;33m,\u001B[0m \u001B[0mrequest_uri\u001B[0m\u001B[1;33m,\u001B[0m \u001B[0mmethod\u001B[0m\u001B[1;33m,\u001B[0m \u001B[0mbody\u001B[0m\u001B[1;33m,\u001B[0m \u001B[0mheaders\u001B[0m\u001B[1;33m,\u001B[0m \u001B[0mredirections\u001B[0m\u001B[1;33m,\u001B[0m \u001B[0mcachekey\u001B[0m\u001B[1;33m,\u001B[0m\u001B[1;33m\u001B[0m\u001B[1;33m\u001B[0m\u001B[0m\n\u001B[0;32m   1726\u001B[0m                     )\n",
      "\u001B[1;32mD:\\MajorSoft\\Anaconda3\\lib\\site-packages\\httplib2\\__init__.py\u001B[0m in \u001B[0;36m_request\u001B[1;34m(self, conn, host, absolute_uri, request_uri, method, body, headers, redirections, cachekey)\u001B[0m\n\u001B[0;32m   1442\u001B[0m             \u001B[0mauth\u001B[0m\u001B[1;33m.\u001B[0m\u001B[0mrequest\u001B[0m\u001B[1;33m(\u001B[0m\u001B[0mmethod\u001B[0m\u001B[1;33m,\u001B[0m \u001B[0mrequest_uri\u001B[0m\u001B[1;33m,\u001B[0m \u001B[0mheaders\u001B[0m\u001B[1;33m,\u001B[0m \u001B[0mbody\u001B[0m\u001B[1;33m)\u001B[0m\u001B[1;33m\u001B[0m\u001B[1;33m\u001B[0m\u001B[0m\n\u001B[0;32m   1443\u001B[0m \u001B[1;33m\u001B[0m\u001B[0m\n\u001B[1;32m-> 1444\u001B[1;33m         \u001B[1;33m(\u001B[0m\u001B[0mresponse\u001B[0m\u001B[1;33m,\u001B[0m \u001B[0mcontent\u001B[0m\u001B[1;33m)\u001B[0m \u001B[1;33m=\u001B[0m \u001B[0mself\u001B[0m\u001B[1;33m.\u001B[0m\u001B[0m_conn_request\u001B[0m\u001B[1;33m(\u001B[0m\u001B[0mconn\u001B[0m\u001B[1;33m,\u001B[0m \u001B[0mrequest_uri\u001B[0m\u001B[1;33m,\u001B[0m \u001B[0mmethod\u001B[0m\u001B[1;33m,\u001B[0m \u001B[0mbody\u001B[0m\u001B[1;33m,\u001B[0m \u001B[0mheaders\u001B[0m\u001B[1;33m)\u001B[0m\u001B[1;33m\u001B[0m\u001B[1;33m\u001B[0m\u001B[0m\n\u001B[0m\u001B[0;32m   1445\u001B[0m \u001B[1;33m\u001B[0m\u001B[0m\n\u001B[0;32m   1446\u001B[0m         \u001B[1;32mif\u001B[0m \u001B[0mauth\u001B[0m\u001B[1;33m:\u001B[0m\u001B[1;33m\u001B[0m\u001B[1;33m\u001B[0m\u001B[0m\n",
      "\u001B[1;32mD:\\MajorSoft\\Anaconda3\\lib\\site-packages\\httplib2\\__init__.py\u001B[0m in \u001B[0;36m_conn_request\u001B[1;34m(self, conn, request_uri, method, body, headers)\u001B[0m\n\u001B[0;32m   1364\u001B[0m             \u001B[1;32mtry\u001B[0m\u001B[1;33m:\u001B[0m\u001B[1;33m\u001B[0m\u001B[1;33m\u001B[0m\u001B[0m\n\u001B[0;32m   1365\u001B[0m                 \u001B[1;32mif\u001B[0m \u001B[0mconn\u001B[0m\u001B[1;33m.\u001B[0m\u001B[0msock\u001B[0m \u001B[1;32mis\u001B[0m \u001B[1;32mNone\u001B[0m\u001B[1;33m:\u001B[0m\u001B[1;33m\u001B[0m\u001B[1;33m\u001B[0m\u001B[0m\n\u001B[1;32m-> 1366\u001B[1;33m                     \u001B[0mconn\u001B[0m\u001B[1;33m.\u001B[0m\u001B[0mconnect\u001B[0m\u001B[1;33m(\u001B[0m\u001B[1;33m)\u001B[0m\u001B[1;33m\u001B[0m\u001B[1;33m\u001B[0m\u001B[0m\n\u001B[0m\u001B[0;32m   1367\u001B[0m                 \u001B[0mconn\u001B[0m\u001B[1;33m.\u001B[0m\u001B[0mrequest\u001B[0m\u001B[1;33m(\u001B[0m\u001B[0mmethod\u001B[0m\u001B[1;33m,\u001B[0m \u001B[0mrequest_uri\u001B[0m\u001B[1;33m,\u001B[0m \u001B[0mbody\u001B[0m\u001B[1;33m,\u001B[0m \u001B[0mheaders\u001B[0m\u001B[1;33m)\u001B[0m\u001B[1;33m\u001B[0m\u001B[1;33m\u001B[0m\u001B[0m\n\u001B[0;32m   1368\u001B[0m             \u001B[1;32mexcept\u001B[0m \u001B[0msocket\u001B[0m\u001B[1;33m.\u001B[0m\u001B[0mtimeout\u001B[0m\u001B[1;33m:\u001B[0m\u001B[1;33m\u001B[0m\u001B[1;33m\u001B[0m\u001B[0m\n",
      "\u001B[1;32mD:\\MajorSoft\\Anaconda3\\lib\\site-packages\\httplib2\\__init__.py\u001B[0m in \u001B[0;36mconnect\u001B[1;34m(self)\u001B[0m\n\u001B[0;32m   1154\u001B[0m                 \u001B[1;32mif\u001B[0m \u001B[0mhas_timeout\u001B[0m\u001B[1;33m(\u001B[0m\u001B[0mself\u001B[0m\u001B[1;33m.\u001B[0m\u001B[0mtimeout\u001B[0m\u001B[1;33m)\u001B[0m\u001B[1;33m:\u001B[0m\u001B[1;33m\u001B[0m\u001B[1;33m\u001B[0m\u001B[0m\n\u001B[0;32m   1155\u001B[0m                     \u001B[0msock\u001B[0m\u001B[1;33m.\u001B[0m\u001B[0msettimeout\u001B[0m\u001B[1;33m(\u001B[0m\u001B[0mself\u001B[0m\u001B[1;33m.\u001B[0m\u001B[0mtimeout\u001B[0m\u001B[1;33m)\u001B[0m\u001B[1;33m\u001B[0m\u001B[1;33m\u001B[0m\u001B[0m\n\u001B[1;32m-> 1156\u001B[1;33m                 \u001B[0msock\u001B[0m\u001B[1;33m.\u001B[0m\u001B[0mconnect\u001B[0m\u001B[1;33m(\u001B[0m\u001B[1;33m(\u001B[0m\u001B[0mself\u001B[0m\u001B[1;33m.\u001B[0m\u001B[0mhost\u001B[0m\u001B[1;33m,\u001B[0m \u001B[0mself\u001B[0m\u001B[1;33m.\u001B[0m\u001B[0mport\u001B[0m\u001B[1;33m)\u001B[0m\u001B[1;33m)\u001B[0m\u001B[1;33m\u001B[0m\u001B[1;33m\u001B[0m\u001B[0m\n\u001B[0m\u001B[0;32m   1157\u001B[0m \u001B[1;33m\u001B[0m\u001B[0m\n\u001B[0;32m   1158\u001B[0m                 \u001B[0mself\u001B[0m\u001B[1;33m.\u001B[0m\u001B[0msock\u001B[0m \u001B[1;33m=\u001B[0m \u001B[0mself\u001B[0m\u001B[1;33m.\u001B[0m\u001B[0m_context\u001B[0m\u001B[1;33m.\u001B[0m\u001B[0mwrap_socket\u001B[0m\u001B[1;33m(\u001B[0m\u001B[0msock\u001B[0m\u001B[1;33m,\u001B[0m \u001B[0mserver_hostname\u001B[0m\u001B[1;33m=\u001B[0m\u001B[0mself\u001B[0m\u001B[1;33m.\u001B[0m\u001B[0mhost\u001B[0m\u001B[1;33m)\u001B[0m\u001B[1;33m\u001B[0m\u001B[1;33m\u001B[0m\u001B[0m\n",
      "\u001B[1;31mKeyboardInterrupt\u001B[0m: "
     ]
    }
   ],
   "execution_count": 3
  },
  {
   "metadata": {},
   "cell_type": "markdown",
   "source": [
    "3. 列出文件——方法：files.list\n",
    "\n",
    "**端点**：\n",
    "\n",
    "```\n",
    "GET https://generativelanguage.googleapis.com/v1beta/files\n",
    "```\n",
    "\n",
    "**查询参数**：\n",
    "\n",
    "- **pageSize（可选）**：每页返回的文件数量，默认值为 10，最大值为 100。\n",
    "- **pageToken（可选）**：用于分页的令牌。\n",
    "\n",
    "- **设置分页**：可使用 `page_size` 参数控制每页的文件数量。\n",
    "- **遍历文件**：`list_files` 方法返回一个可迭代的对象，包含所有文件的 `File` 对象。\n",
    "\n",
    "### 注意事项\n",
    "\n",
    "- **分页处理**：如果文件数量较多，需处理分页逻辑，使用 `next_page_token` 获取下一页数据。\n",
    "- **性能考虑**：合理设置 `page_size`，避免一次性请求过多数据。\n"
   ],
   "id": "dda999ebc211f6bd"
  },
  {
   "metadata": {
    "ExecuteTime": {
     "end_time": "2024-09-26T10:59:05.433924Z",
     "start_time": "2024-09-26T10:59:04.296186Z"
    }
   },
   "cell_type": "code",
   "source": [
    "print(\"我的文件列表：\")\n",
    "for f in genai.list_files():\n",
    "    print(\"  \", f.name)\n"
   ],
   "id": "62509539a8f259eb",
   "outputs": [
    {
     "name": "stdout",
     "output_type": "stream",
     "text": [
      "我的文件列表：\n"
     ]
    }
   ],
   "execution_count": 3
  },
  {
   "metadata": {},
   "cell_type": "markdown",
   "source": [
    "4. 删除文件——方法：files.delete\n",
    "\n",
    "**端点**：\n",
    "\n",
    "```\n",
    "DELETE https://generativelanguage.googleapis.com/v1beta/{name=files/*}\n",
    "```\n",
    "\n",
    "**路径参数**：\n",
    "\n",
    "- **name**：必需。要删除的文件的名称，格式为 `files/{file_id}`。\n",
    "\n",
    "\n",
    "**删除文件**：使用 `delete_file` 方法，传入文件名称。\n",
    "- **错误处理**：删除后尝试使用该文件，将引发异常，需进行错误处理。\n",
    "\n",
    "### 注意事项\n",
    "\n",
    "- **不可恢复**：删除操作是不可逆的，删除后无法恢复文件。\n",
    "- **权限**：确保您有权限删除该文件。\n",
    "- **使用检查**：在删除前，确认该文件未在其他地方被使用。"
   ],
   "id": "6d4acd30c4f89476"
  },
  {
   "metadata": {},
   "cell_type": "code",
   "outputs": [],
   "execution_count": null,
   "source": [
    "# 上传文件\n",
    "myfile = genai.upload_file('media/poem.txt')\n",
    "\n",
    "# 删除文件\n",
    "myfile.delete()\n",
    "print(f\"文件 {myfile.name} 已删除。\")\n",
    "\n",
    "# 尝试使用已删除的文件将会引发错误\n",
    "try:\n",
    "    model = genai.GenerativeModel(\"gemini-1.5-flash\")\n",
    "    result = model.generate_content([myfile, \"Describe this file.\"])\n",
    "except Exception as e:\n",
    "    print(\"错误：无法使用已删除的文件。\")\n"
   ],
   "id": "34db1b74e9c907cc"
  },
  {
   "metadata": {},
   "cell_type": "markdown",
   "source": [
    "## 文件资源深入解析\n",
    "\n",
    "### 重要字段解释\n",
    "\n",
    "- **name**：文件的唯一标识符，格式为 `files/{file_id}`。\n",
    "- **displayName**：文件的显示名称，便于识别。\n",
    "- **mimeType**：文件的 MIME 类型，例如 `image/jpeg`。\n",
    "- **sizeBytes**：文件大小，单位为字节。\n",
    "- **createTime**：文件的创建时间戳。\n",
    "- **updateTime**：文件的最后更新时间戳。\n",
    "- **expirationTime**：文件的过期时间戳（如果适用）。\n",
    "- **sha256Hash**：文件内容的 SHA-256 哈希值，用于验证完整性。\n",
    "- **uri**：文件的 URI，可用于直接访问文件。\n",
    "- **state**：文件的处理状态。\n",
    "\n",
    "### 文件状态详解\n",
    "\n",
    "- **PROCESSING**：文件正在处理，尚不可用。\n",
    "- **ACTIVE**：文件已处理完成，可以使用。\n",
    "- **FAILED**：文件处理失败，需检查 `error` 字段获取错误信息。"
   ],
   "id": "a3e6023561b07fe0"
  },
  {
   "metadata": {},
   "cell_type": "markdown",
   "source": [
    "## 附录：常见问题解答\n",
    "\n",
    "### 1. **如何处理文件上传失败的问题？**\n",
    "\n",
    "- **检查文件格式和大小**：确保文件类型受支持，且大小不超过限制。\n",
    "- **查看错误信息**：如果上传失败，`File` 对象的 `error` 字段将包含详细的错误信息。\n",
    "\n",
    "### 2. **文件的有效期是多久？**\n",
    "\n",
    "- **默认有效期**：文件可能有默认的过期时间，具体取决于 API 的配置。\n",
    "- **查看 `expirationTime`**：通过文件的 `expirationTime` 字段，查看文件的过期时间。\n",
    "\n",
    "### 3. **是否可以更新已上传文件的内容？**\n",
    "\n",
    "- **不支持直接更新**：一旦文件上传，无法修改其内容。\n",
    "- **解决方案**：如果需要更新文件，建议删除旧文件，重新上传新的文件。"
   ],
   "id": "d720636dde1d97d9"
  },
  {
   "metadata": {},
   "cell_type": "code",
   "outputs": [],
   "execution_count": null,
   "source": "",
   "id": "866e2f91e11fca40"
  }
 ],
 "metadata": {
  "kernelspec": {
   "display_name": "Python 3",
   "language": "python",
   "name": "python3"
  },
  "language_info": {
   "codemirror_mode": {
    "name": "ipython",
    "version": 2
   },
   "file_extension": ".py",
   "mimetype": "text/x-python",
   "name": "python",
   "nbconvert_exporter": "python",
   "pygments_lexer": "ipython2",
   "version": "2.7.6"
  }
 },
 "nbformat": 4,
 "nbformat_minor": 5
}
