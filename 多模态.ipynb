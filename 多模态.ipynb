{
 "cells": [
  {
   "metadata": {},
   "cell_type": "markdown",
   "source": "",
   "id": "e7f948d3ceae49c6"
  },
  {
   "metadata": {},
   "cell_type": "markdown",
   "source": [
    "##### 提示技巧\n",
    "\n",
    "- 图像放置在文本之前效果最佳\n",
    "- 多图像时，用 \"Image 1:\"、\"Image 2:\" 等介绍每张图片"
   ],
   "id": "f2daae67e3fa6335"
  },
  {
   "metadata": {},
   "cell_type": "markdown",
   "source": "安装一个显示加载图像的库",
   "id": "a9998fcfadc932ff"
  },
  {
   "metadata": {},
   "cell_type": "code",
   "outputs": [],
   "execution_count": null,
   "source": "%pip install IPython requests Pillow",
   "id": "626e6946507a3afc"
  },
  {
   "metadata": {},
   "cell_type": "markdown",
   "source": "",
   "id": "6947cc1ea6a71a30"
  },
  {
   "metadata": {},
   "cell_type": "code",
   "outputs": [],
   "execution_count": null,
   "source": [
    "message_list = [\n",
    "    {\n",
    "        \"role\": 'user',\n",
    "        \"content\": [\n",
    "            {\"type\": \"image\", \"source\": {\"type\": \"base64\", \"media_type\": \"image/png\", \"data\": get_image_from_url(\"https://typora-photo1220.oss-cn-beijing.aliyuncs.com/DataAnalysis/LingYi/20240828144957.png\")}},\n",
    "            {\"type\": \"text\", \"text\": \"按照流程图生成代码\"}\n",
    "        ]\n",
    "    }\n",
    "]\n",
    "\n",
    "response = client.messages.create(\n",
    "    model=MODEL_NAME,\n",
    "    max_tokens=2048,\n",
    "    messages=message_list\n",
    ")\n",
    "print(response.content[0].text)"
   ],
   "id": "7f27c7ffefe39f81"
  },
  {
   "metadata": {},
   "cell_type": "markdown",
   "source": "",
   "id": "60da09e1ade0fe2"
  },
  {
   "metadata": {},
   "cell_type": "code",
   "outputs": [],
   "execution_count": null,
   "source": [
    "\n",
    "message = client.messages.create(\n",
    "    model = MODEL_NAME,\n",
    "    max_tokens=1024,\n",
    "    messages=[\n",
    "        {\n",
    "            \"role\": \"user\",\n",
    "            \"content\": [\n",
    "                {\n",
    "                    \"type\": \"text\",\n",
    "                    \"text\": \"图像 1：\"\n",
    "                },\n",
    "                {\n",
    "                    \"type\": \"image\",\n",
    "                    \"source\":  {\"type\": \"base64\", \"media_type\": \"image/jpeg\", \"data\": get_image_from_file(\"images/spot_diff1.jpg\")},\n",
    "                },\n",
    "                {\n",
    "                    \"type\": \"text\",\n",
    "                    \"text\": \"图像 2：\"\n",
    "                },\n",
    "                {\n",
    "                    \"type\": \"image\",\n",
    "                    \"source\":  {\"type\": \"base64\", \"media_type\": \"image/jpeg\", \"data\": get_image_from_file(\"images/spot_diff2.jpg\")},\n",
    "                },\n",
    "                {\n",
    "                    \"type\": \"text\",\n",
    "                    \"text\": \"这些图像有什么不同？仔细的找不同\"\n",
    "                }\n",
    "            ],\n",
    "        }\n",
    "    ],\n",
    ")\n"
   ],
   "id": "44df0c3e4f897606"
  },
  {
   "metadata": {},
   "cell_type": "code",
   "outputs": [],
   "execution_count": null,
   "source": [
    "生成具有不同细节级别的图片和视频说明。我们建议您从以下图片/视频提示开始，从此处迭代操作以获取更具体的说明。\n",
    "图片：“您能编写关于图片的说明吗？”\n",
    "视频：“您能编写这个视频所发生情况的说明吗？”"
   ],
   "id": "8684c931cb9a8782"
  },
  {
   "metadata": {},
   "cell_type": "markdown",
   "source": [
    "对象边界框\n",
    "询问图像中对象的边界框，增强目标检测能力。"
   ],
   "id": "b8b5e12b3327bece"
  },
  {
   "metadata": {},
   "cell_type": "code",
   "outputs": [],
   "execution_count": null,
   "source": [
    "bbox_prompt = \"Return a bounding box for the piranha. \\n [ymin, xmin, ymax, xmax]\"\n",
    "bbox_response = generate_content(api_key, uploaded_image['uri'], bbox_prompt)\n",
    "print(\"Bounding Box:\", bbox_response['text'])\n",
    "\n",
    "def convert_coordinates(coordinates, original_size):\n",
    "    ymin, xmin, ymax, xmax = map(float, coordinates.split(','))\n",
    "    height, width = original_size\n",
    "    return [ymin * height, xmin * width, ymax * height, xmax * width]"
   ],
   "id": "3d99f60f5bc92990"
  },
  {
   "metadata": {},
   "cell_type": "markdown",
   "source": "音频",
   "id": "a68c8b2d7b42f85b"
  },
  {
   "metadata": {},
   "cell_type": "code",
   "outputs": [],
   "execution_count": null,
   "source": "your_file = genai.upload_file(path='sample.mp3')",
   "id": "3fcee187d4eb5b08"
  },
  {
   "metadata": {},
   "cell_type": "code",
   "outputs": [],
   "execution_count": null,
   "source": "model.count_tokens([your_file])",
   "id": "7ec665262400cbec"
  },
  {
   "metadata": {},
   "cell_type": "code",
   "outputs": [],
   "execution_count": null,
   "source": [
    "\n",
    "prompt = \"Listen carefully to the following audio file. Provide a brief summary.\"\n",
    "model = genai.GenerativeModel('models/gemini-1.5-flash')\n",
    "response = model.generate_content([prompt, your_file])\n",
    "print(response.text)"
   ],
   "id": "5425dabd3253de73"
  },
  {
   "metadata": {},
   "cell_type": "markdown",
   "source": "对于小请求，您可以将音频数据内联到请求中，就像处理图像一样。使用 PyDub 修剪音频的前 10 秒：",
   "id": "50bc709db6aef22b"
  },
  {
   "metadata": {},
   "cell_type": "code",
   "outputs": [],
   "execution_count": null,
   "source": "!pip install -Uq pydub",
   "id": "1e0697c5fd47250a"
  },
  {
   "metadata": {},
   "cell_type": "code",
   "outputs": [],
   "execution_count": null,
   "source": "from pydub import AudioSegment",
   "id": "292194dbfee16ad6"
  },
  {
   "metadata": {},
   "cell_type": "code",
   "outputs": [],
   "execution_count": null,
   "source": [
    "sound = AudioSegment.from_mp3(\"sample.mp3\")\n",
    "sound[:10000] # slices are in ms"
   ],
   "id": "e9f5b9a27e6a6fb7"
  },
  {
   "metadata": {},
   "cell_type": "code",
   "outputs": [],
   "execution_count": null,
   "source": [
    "\n",
    "response = model.generate_content([\n",
    "    \"Please transcribe this recording:\",\n",
    "    {\n",
    "        \"mime_type\": \"audio/mp3\",\n",
    "        \"data\": sound[:10000].export().read()\n",
    "    }\n",
    "])\n",
    "from IPython import display\n",
    "\n",
    "display.Markdown(response.text)"
   ],
   "id": "eed589cd7a842f4"
  },
  {
   "metadata": {},
   "cell_type": "markdown",
   "source": "",
   "id": "b27d7e2596aded44"
  },
  {
   "metadata": {},
   "cell_type": "markdown",
   "source": [
    "视频处理能力概述\n",
    "\n",
    "Gemini 1.5 Pro和Flash能够处理长达一小时的视频数据。这为分析较长视频内容提供了很大的灵活性。\n",
    "\n",
    "支持的视频格式\n",
    "\n",
    "这两个系统支持多种常见的视频格式,具体包括:\n",
    "\n",
    "1. MP4 (video/mp4)\n",
    "2. MPEG (video/mpeg) \n",
    "3. MOV (video/mov)\n",
    "4. AVI (video/avi)\n",
    "5. FLV (video/x-flv)\n",
    "6. MPG (video/mpg)\n",
    "7. WebM (video/webm)\n",
    "8. WMV (video/wmv)\n",
    "9. 3GPP (video/3gpp)\n",
    "\n",
    "这种多格式支持意味着用户可以使用大多数常见的视频文件,无需进行格式转换。\n",
    "\n",
    "视频处理方式\n",
    "\n",
    "系统会以特定的方式处理视频内容:\n",
    "\n",
    "- 视频帧提取: 每秒提取1帧图像(1 FPS)\n",
    "- 音频处理: 以1Kbps的速率提取单通道音频\n",
    "- 时间戳添加: 每秒为提取的内容添加时间戳\n",
    "\n",
    "需要注意的是,1 FPS的采样率可能会导致快速动作场景的细节丢失。如果视频中包含高速移动的重要内容,建议将这些片段放慢速度,以提高分析质量。\n",
    "\n",
    "数据处理能力\n",
    "\n",
    "系统对视频内容的处理量化如下:\n",
    "\n",
    "- 每个视频帧包含258个词元\n",
    "- 音频每秒产生32个词元\n",
    "- 算上元数据,视频每秒大约生成300个词元\n",
    "- 总计可处理约100万个词元,相当于接近一小时的视频长度\n",
    "\n",
    "使用技巧\n",
    "\n",
    "1. 时间戳查询: 如需询问视频中特定时间点的内容,请使用\"MM:SS\"格式,例如\"05:30\"表示5分30秒。\n",
    "\n",
    "2. 单一视频原则: 每次分析最好只使用一个视频,避免多视频混淆。\n",
    "\n",
    "3. 提示位置: 如果只分析一个视频,请将文字提示放在视频信息之后。"
   ],
   "id": "c29a8f8b06b5b0cc"
  },
  {
   "metadata": {},
   "cell_type": "markdown",
   "source": "",
   "id": "1accfb6fdd92975f"
  },
  {
   "metadata": {},
   "cell_type": "code",
   "outputs": [],
   "execution_count": null,
   "source": [
    "\n",
    "system_prompt = \"\"\"\n",
    "You are historian who specializes in events caught on film.\n",
    "When you receive a video answer following questions:\n",
    "When did it happen?\n",
    "Who is the most important person in video?\n",
    "How the event is called?\n",
    "\"\"\"\n",
    "\n",
    "safety_settings = [\n",
    "    {\n",
    "        \"category\": \"HARM_CATEGORY_HARASSMENT\",\n",
    "        \"threshold\": \"BLOCK_NONE\",\n",
    "    },\n",
    "    {\n",
    "        \"category\": \"HARM_CATEGORY_HATE_SPEECH\",\n",
    "        \"threshold\": \"BLOCK_NONE\",\n",
    "    },\n",
    "    {\n",
    "        \"category\": \"HARM_CATEGORY_SEXUALLY_EXPLICIT\",\n",
    "        \"threshold\": \"BLOCK_NONE\",\n",
    "    },\n",
    "    {\n",
    "        \"category\": \"HARM_CATEGORY_DANGEROUS_CONTENT\",\n",
    "        \"threshold\": \"BLOCK_NONE\",\n",
    "    },\n",
    "]\n",
    " model = genai.GenerativeModel(model_name=\"models/gemini-1.5-flash\", safety_settings=safety_settings,\n",
    "                              system_instruction=system_prompt)\n",
    "response = model.generate_content([video_file])\n",
    "print(response.text)"
   ],
   "id": "3592a998434b634"
  },
  {
   "metadata": {},
   "cell_type": "markdown",
   "source": "",
   "id": "fa2df6ea2e952a7"
  },
  {
   "metadata": {},
   "cell_type": "code",
   "outputs": [],
   "execution_count": null,
   "source": [
    "\n",
    "# Upload video\n",
    "video_file = genai.upload_file(path=path)"
   ],
   "id": "33b97b7870b18ba3"
  },
  {
   "metadata": {},
   "cell_type": "code",
   "outputs": [],
   "execution_count": null,
   "source": [
    "\n",
    "# 视频上传后，状态为 PROCESSING，需等其变为 ACTIVE 才可用于推理。\n",
    "while video_file.state.name == \"PROCESSING\":\n",
    "  print('.', end='')\n",
    "  time.sleep(5)\n",
    "  video_file = genai.get_file(video_file.name)\n",
    "\n",
    "if video_file.state.name == \"FAILED\":\n",
    "  raise ValueError(video_file.state.name)"
   ],
   "id": "b0dd062d3ea928c9"
  },
  {
   "metadata": {},
   "cell_type": "code",
   "outputs": [],
   "execution_count": null,
   "source": [
    "# Display some of the video content\n",
    "cap = cv2.VideoCapture(path)\n",
    "frame_number = 1000\n",
    "for _ in range(frame_number):\n",
    "    ret, frame = cap.read()\n",
    "frame_rgb = cv2.cvtColor(frame, cv2.COLOR_BGR2RGB)\n",
    "\n",
    "plt.imshow(frame_rgb)\n",
    "plt.axis('off')\n",
    "plt.show()\n",
    "\n",
    "cap.release()"
   ],
   "id": "2fae1aec0b0d7191"
  },
  {
   "metadata": {},
   "cell_type": "code",
   "outputs": [],
   "execution_count": null,
   "source": "system_prompt = \"You should provide a quick 2 or 3 sentence summary of what is happening in the video.\"",
   "id": "eba8ad15c67210e7"
  },
  {
   "metadata": {},
   "cell_type": "code",
   "outputs": [],
   "execution_count": null,
   "source": [
    "model = genai.GenerativeModel(model_name=\"models/gemini-1.5-flash\", system_instruction=system_prompt)\n",
    "response = model.generate_content([video_file])\n",
    "print(response.text)"
   ],
   "id": "8b480de01454232b"
  },
  {
   "metadata": {},
   "cell_type": "code",
   "outputs": [],
   "execution_count": null,
   "source": [
    "transcript_prompt = \"Transcribe the audio, giving timestamps. Also provide visual descriptions.\"\n",
    "transcript_response = generate_content(api_key, video_file['uri'], transcript_prompt)\n",
    "print(\"Transcription Output:\", transcript_response['text'])"
   ],
   "id": "7a7671bd96a7b91d"
  },
  {
   "metadata": {},
   "cell_type": "code",
   "outputs": [],
   "execution_count": null,
   "source": "Gemini API 每秒仅处理一帧视频。这可能导致模型无法看到发生的所有事情，特别是当某些东西仅在一瞬间可见时。",
   "id": "c3dbb34eb4d9ef7b"
  },
  {
   "metadata": {},
   "cell_type": "markdown",
   "source": "综合传入",
   "id": "653fca409be8fe33"
  },
  {
   "metadata": {},
   "cell_type": "code",
   "outputs": [],
   "execution_count": null,
   "source": [
    "### 目标\n",
    "将原始思想和创意转化为引人入胜的博客文章，展现作者独特的风格和声音。\n",
    "\n",
    "### 输入\n",
    "1. **示例博客文章（1-5）**：\n",
    "   - 用户提供与期望风格相符的博客文章示例，帮助理解用词、句子结构和整体声音。\n",
    "\n",
    "2. **音频剪辑**：\n",
    "   - 用户分享脑风暴的音频录音，内容如同与朋友讨论，表达自由开放。\n",
    "\n",
    "### 输出\n",
    "- **博客文章草稿**：\n",
    "  - 一份结构清晰的初稿，适合在 Substack 或 LinkedIn 等平台发布，内容包括：\n",
    "  - 清晰而引人入胜的写作，确保对目标受众有趣。\n",
    "  - 语调和风格与示例一致，确保一致性。\n",
    "  - 逻辑流畅的结构，分为明确的章节。\n",
    "  - 目标字数为 500-800 字，可根据用户偏好调整。\n",
    "\n",
    "### 过程\n",
    "1. **风格分析**：\n",
    "   - 分析示例博客，识别以下元素：\n",
    "     - **词汇与用词**：正式/非正式、专业术语/俚语。\n",
    "     - **句子结构与长度**：短句/长句。\n",
    "     - **语调与声音**：幽默、严肃、信息性、说服性等。\n",
    "\n",
    "2. **音频转录与理解**：\n",
    "   - 高精度转录音频，提取关键想法、论点和支持点。\n",
    "\n",
    "3. **草稿生成**：\n",
    "   - 根据音频见解和风格指南生成初稿，确保包含所有相关章节及支持论据，结尾精彩，吸引读者继续关注。\n"
   ],
   "id": "e6ac21ada00fd244"
  },
  {
   "metadata": {},
   "cell_type": "code",
   "outputs": [],
   "execution_count": null,
   "source": [
    "prompt = \"Draft my next blog post based on my thoughts in this audio file and these two previous blog posts I wrote.\"\n",
    "\n",
    "model = genai.GenerativeModel(model_name=\"models/gemini-1.5-flash\", system_instruction=si)\n",
    "\n",
    "response = model.generate_content([prompt, blog_file, blog_file2, audio_file],\n",
    "                                  request_options={\"timeout\": 600})"
   ],
   "id": "f8f834baee6afc56"
  }
 ],
 "metadata": {
  "kernelspec": {
   "display_name": "Python 3",
   "language": "python",
   "name": "python3"
  },
  "language_info": {
   "codemirror_mode": {
    "name": "ipython",
    "version": 2
   },
   "file_extension": ".py",
   "mimetype": "text/x-python",
   "name": "python",
   "nbconvert_exporter": "python",
   "pygments_lexer": "ipython2",
   "version": "2.7.6"
  }
 },
 "nbformat": 4,
 "nbformat_minor": 5
}
