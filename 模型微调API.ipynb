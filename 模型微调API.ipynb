{
 "cells": [
  {
   "metadata": {},
   "cell_type": "markdown",
   "source": [
    "模型调优是调整 Gemini 以更准确地执行特定任务的关键过程。模型调优的工作原理是为模型提供训练数据集，其中包含一组特定下游任务的示例。"
   ],
   "id": "2c12be3bc9820be7"
  },
  {
   "metadata": {},
   "cell_type": "markdown",
   "source": [
    "模型调优是针对任务自定义大型模型的有效方法。这是提高模型质量和效率的关键步骤。模型调优具有以下优势：\n",
    "\n",
    "提高特定任务的处理质量。\n",
    "提高了模型稳健性。\n",
    "提示较短，因此推理延迟时间和费用更低。\n",
    "\n",
    "调优与提示设计比较\n",
    "与提示设计相比，调优具有以下优势。\n",
    "\n",
    "允许对模型进行深度自定义，从而在特定任务上获得更好的性能。\n",
    "提供更一致、更可靠的结果。\n",
    "能够一次处理更多示例。"
   ],
   "id": "eaefdfe1c10f33ee"
  },
  {
   "metadata": {},
   "cell_type": "markdown",
   "source": [
    "Gemini 模型的监督式微调可以通过让模型学习新技能来提高模型的性能。此方法使用包含数百个有标签样本的数据来训练模型，让其模拟所需的行为或任务。每个有标签样本均展示您希望模型在推理期间输出的内容。\n",
    "\n",
    "如果您拥有明确定义的任务以及已加标签的数据，则监督式微调是理想之选。监督式微调使用带标签的数据集调整模型行为。此过程会调整模型的权重，以最大限度地减少其预测结果与实际标签之间的差异。"
   ],
   "id": "304cd4d5f9136857"
  },
  {
   "metadata": {},
   "cell_type": "markdown",
   "source": [
    "适用于 gemini-1.0-pro-002 的监督式微调目前为预览版。\n",
    "\n",
    "在调优处于预览版阶段期间，调优模型无需付费。\n",
    "调优模型后，调优后模型的推理仍然会产生费用。Gemini 1.0 Pro 的每个稳定版的推理价格都相同。"
   ],
   "id": "6ceecb1ea31c52b4"
  },
  {
   "metadata": {},
   "cell_type": "markdown",
   "source": [
    "https://cloud.google.com/vertex-ai/generative-ai/docs/models/gemini-supervised-tuning?hl=zh-cn\n",
    "\n",
    "https://cloud.google.com/vertex-ai/generative-ai/docs/models/gemini-supervised-tuning-about?hl=zh-cn"
   ],
   "id": "9a69dfbac89ea919"
  }
 ],
 "metadata": {
  "kernelspec": {
   "display_name": "Python 3",
   "language": "python",
   "name": "python3"
  },
  "language_info": {
   "codemirror_mode": {
    "name": "ipython",
    "version": 2
   },
   "file_extension": ".py",
   "mimetype": "text/x-python",
   "name": "python",
   "nbconvert_exporter": "python",
   "pygments_lexer": "ipython2",
   "version": "2.7.6"
  }
 },
 "nbformat": 4,
 "nbformat_minor": 5
}
