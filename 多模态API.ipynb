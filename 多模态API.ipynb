{
 "cells": [
  {
   "cell_type": "code",
   "execution_count": null,
   "id": "initial_id",
   "metadata": {
    "collapsed": true
   },
   "outputs": [],
   "source": [
    "生成具有不同细节级别的图片和视频说明。我们建议您从以下图片/视频提示开始，从此处迭代操作以获取更具体的说明。\n",
    "图片：“您能编写关于图片的说明吗？”\n",
    "视频：“您能编写这个视频所发生情况的说明吗？”"
   ]
  },
  {
   "metadata": {},
   "cell_type": "markdown",
   "source": [
    "好的,我来为您整理一个更加清晰易读的对比表格:\n",
    "\n",
    "| 特性 | Gemini 1.5 Flash/Pro | Gemini 1.0 Pro Vision |\n",
    "|------|----------------------|------------------------|\n",
    "| 文本上下文长度 | 100万词元(约4000页) | 16,384词元(约128页) |\n",
    "| 代码处理能力 | 可处理整个代码库 | 限16,384词元 |\n",
    "| 单次处理图片数量 | 最多3000张 | 最多16张 |\n",
    "| 音频处理 | 支持,最长8.4小时 | 不支持 |\n",
    "| 视频处理 | 支持,最长50分钟(有音频)<br>1小时(无音频)<br>每次最多10个视频 | 支持,最长2分钟<br>每次1个视频<br>忽略音频 |\n",
    "| PDF处理 | 最多300页,30MB | 最多16页,30MB |\n",
    "| 输出限制 | 无特别说明 | 最多2,048词元 |\n",
    "\n",
    "主要区别:\n",
    "1. Gemini 1.5 在各方面能力都大幅提升,尤其是处理长文本、大量图片和长视频的能力。\n",
    "2. Gemini 1.5 新增了音频处理能力。\n",
    "3. Gemini 1.5 在处理PDF时可以处理更多页面。\n",
    "4. Gemini 1.0 Pro Vision在输出长度上有明确限制,而1.5版本没有提到此限制。\n",
    "\n",
    "这些差异使得Gemini 1.5更适合处理大规模、复杂的多模态任务。"
   ],
   "id": "b7d18d52000df30a"
  },
  {
   "metadata": {},
   "cell_type": "markdown",
   "source": "![](https://typora-photo1220.oss-cn-beijing.aliyuncs.com/DataAnalysis/LingYi/20240923152248.png)",
   "id": "94daaba09ea7b95e"
  }
 ],
 "metadata": {
  "kernelspec": {
   "display_name": "Python 3",
   "language": "python",
   "name": "python3"
  },
  "language_info": {
   "codemirror_mode": {
    "name": "ipython",
    "version": 2
   },
   "file_extension": ".py",
   "mimetype": "text/x-python",
   "name": "python",
   "nbconvert_exporter": "python",
   "pygments_lexer": "ipython2",
   "version": "2.7.6"
  }
 },
 "nbformat": 4,
 "nbformat_minor": 5
}
